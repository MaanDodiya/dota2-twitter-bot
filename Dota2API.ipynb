{
 "cells": [
  {
   "cell_type": "code",
   "execution_count": 1,
   "metadata": {},
   "outputs": [],
   "source": [
    "from bs4 import BeautifulSoup\n",
    "import requests\n",
    "import pickle\n",
    "import time\n",
    "import os\n",
    "import json\n",
    "\n"
   ]
  },
  {
   "cell_type": "code",
   "execution_count": 100,
   "metadata": {},
   "outputs": [],
   "source": [
    "__DOTA2_ID = 336910173\n",
    "__STEAM_ID = 0\n",
    "__LAST_MATCH_ID = 0\n",
    "__MMR = 2490\n",
    "\n",
    "def init_log(matchid,mmr):\n",
    "    log = {'LastMatchId': matchid, 'MMR': mmr}\n",
    "    pickling_on = open(\"log.dat\",\"wb\")\n",
    "    pickle.dump(log, pickling_on)\n",
    "    pickling_on.close()\n",
    "\n",
    "def load_log():\n",
    "    pickle_off = open(\"log.dat\", 'rb')\n",
    "    log = pickle.load(pickle_off)\n",
    "    return log[\"LastMatchId\"], log[\"MMR\"]\n",
    "    \n",
    "def get_matchIDs():\n",
    "    matchIDs = []\n",
    "    link = \"https://api.opendota.com/api/players/\" + str(__DOTA2_ID) + \"/recentMatches\"\n",
    "    source = requests.get(link, headers={'User-agent': 'your bot 0.1'}).text\n",
    "    soup = BeautifulSoup(source, 'lxml')\n",
    "    DataString = soup.find('body').text\n",
    "    DataJSON = json.loads(DataString)\n",
    "    __lastMatchId, __MMR = load_log()\n",
    "    for match in DataJSON:\n",
    "        if(match[\"match_id\"]==__lastMatchId):\n",
    "            print(\"Match found!!!\")\n",
    "            break\n",
    "        else:\n",
    "            matchIDs.append(match[\"match_id\"])\n",
    "    if(len(matchIDs)==0):\n",
    "        print(\"No New Matches Played :(\")\n",
    "        return False\n",
    "    else:\n",
    "        return matchIDs\n",
    "            \n",
    "def get_matchDetails():\n",
    "    matchIDs = get_matchIDs()\n",
    "    if(matchIDs==False):\n",
    "        return False\n",
    "    else:\n",
    "        for match in matchIDs:\n",
    "            tweetData = {}\n",
    "            \n",
    "            link = \"https://api.opendota.com/api/matches/\" + str(match)\n",
    "            source = requests.get(link, headers={'User-agent': 'your bot 0.1'}).text\n",
    "            soup = BeautifulSoup(source, 'lxml')\n",
    "            DataString = soup.find('body').text\n",
    "            DataJSON = json.loads(DataString)\n",
    "            \n",
    "            tweetData[\"match_id\"]=DataJSON[\"match_id\"]\n",
    "            tweetData[\"dire_score\"]=DataJSON[\"dire_score\"]\n",
    "            tweetData[\"radiant_score\"]=DataJSON[\"radiant_score\"]\n",
    "#             tweetData[\"radiant_heroes\"]=\n",
    "            for i in range(10): \n",
    "                print(DataJSON[\"players\"][i][\"hero_id\"],DataJSON[\"players\"][i][\"player_slot\"])\n",
    "        \n",
    "            \n",
    "            print(tweetData)"
   ]
  },
  {
   "cell_type": "code",
   "execution_count": 101,
   "metadata": {},
   "outputs": [
    {
     "name": "stdout",
     "output_type": "stream",
     "text": [
      "Match found!!!\n",
      "Match found!!!\n",
      "128 0\n",
      "8 1\n",
      "87 2\n",
      "70 3\n",
      "47 4\n",
      "107 128\n",
      "44 129\n",
      "27 130\n",
      "15 131\n",
      "72 132\n",
      "{'match_id': 5740045349, 'dire_score': 51, 'radiant_score': 34}\n",
      "53 0\n",
      "129 1\n",
      "14 2\n",
      "114 3\n",
      "50 4\n",
      "57 128\n",
      "48 129\n",
      "2 130\n",
      "26 131\n",
      "85 132\n",
      "{'match_id': 5740009711, 'dire_score': 38, 'radiant_score': 21}\n"
     ]
    }
   ],
   "source": [
    "get_matchIDs()\n",
    "get_matchDetails()\n"
   ]
  },
  {
   "cell_type": "code",
   "execution_count": null,
   "metadata": {},
   "outputs": [],
   "source": []
  },
  {
   "cell_type": "code",
   "execution_count": 68,
   "metadata": {},
   "outputs": [],
   "source": [
    "init_log(5739972760,__MMR)"
   ]
  },
  {
   "cell_type": "code",
   "execution_count": 69,
   "metadata": {},
   "outputs": [
    {
     "data": {
      "text/plain": [
       "(5739972760, 2490)"
      ]
     },
     "execution_count": 69,
     "metadata": {},
     "output_type": "execute_result"
    }
   ],
   "source": [
    "load_log()"
   ]
  },
  {
   "cell_type": "code",
   "execution_count": null,
   "metadata": {},
   "outputs": [],
   "source": []
  }
 ],
 "metadata": {
  "kernelspec": {
   "display_name": "Python 3",
   "language": "python",
   "name": "python3"
  },
  "language_info": {
   "codemirror_mode": {
    "name": "ipython",
    "version": 3
   },
   "file_extension": ".py",
   "mimetype": "text/x-python",
   "name": "python",
   "nbconvert_exporter": "python",
   "pygments_lexer": "ipython3",
   "version": "3.7.4"
  }
 },
 "nbformat": 4,
 "nbformat_minor": 2
}
